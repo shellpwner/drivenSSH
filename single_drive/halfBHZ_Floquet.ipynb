{
 "cells": [
  {
   "cell_type": "code",
   "execution_count": null,
   "id": "883cb9d6-898b-4c83-ab61-067bc1239305",
   "metadata": {},
   "outputs": [],
   "source": [
    "import numpy as np\n",
    "import matplotlib.pyplot as plt\n",
    "from scipy import linalg as la\n",
    "import scipy.integrate as integrate\n",
    "from scipy.linalg import ishermitian"
   ]
  },
  {
   "cell_type": "markdown",
   "id": "1ac230f0-519c-4e6e-86d7-b58d86570ac5",
   "metadata": {},
   "source": [
    "<h3>Average joe, Half BHZ model</h3>"
   ]
  },
  {
   "cell_type": "code",
   "execution_count": null,
   "id": "5c621704-90ec-4dba-89f8-78d9101cf8e2",
   "metadata": {},
   "outputs": [],
   "source": [
    "sigmax = np.matrix(np.array([[0,1],[1,0]]))\n",
    "sigmay = np.matrix(np.array([[0,-1j],[1j,0]]))\n",
    "sigmaz = np.matrix(np.array([[1,0],[0,-1]]))\n",
    "\n",
    "def hamBHZ(kx, ky, m):\n",
    "    return np.sin(kx)*sigmax + np.sin(ky)*sigmay + (m - np.cos(kx) - np.cos(ky))*sigmaz"
   ]
  },
  {
   "cell_type": "code",
   "execution_count": null,
   "id": "2539e6cd-c0bc-45d8-ae7b-dfda4c94cae6",
   "metadata": {},
   "outputs": [],
   "source": [
    "fig, ax = plt.subplots(subplot_kw={\"projection\": \"3d\"})\n",
    "\n",
    "kx = np.arange(-np.pi, np.pi+0.1, 0.1)\n",
    "ky = np.arange(-np.pi, np.pi+0.1, 0.1)\n",
    "X, Y = np.meshgrid(kx, ky)\n",
    "m = 0\n",
    "z1 = np.zeros((len(kx),len(ky)))\n",
    "z2 = np.zeros((len(kx),len(ky)))\n",
    "for i in range(len(kx)):\n",
    "    for j in range(len(ky)):\n",
    "        z1[i,j] = np.real(np.sort(la.eigvals(hamBHZ(kx[i],ky[j],m)))[0])\n",
    "        z2[i,j] = np.real(np.sort(la.eigvals(hamBHZ(kx[i],ky[j],m)))[1])\n",
    "ax.plot_surface(X, Y, z1)\n",
    "ax.plot_surface(X, Y, z2)\n",
    "plt.show()\n",
    "\n"
   ]
  },
  {
   "cell_type": "markdown",
   "id": "70269cb3-4af9-41a9-b15a-759805dbcd52",
   "metadata": {},
   "source": [
    "<h3>Temporal Half BHZ model, rational limit (single common frequency)</h3>\n",
    "We let $\\omega_1 / \\omega_2 = p/q$, with $\\omega_2 = 0.1$. The common frequency is $\\omega = \\omega_2/q$"
   ]
  },
  {
   "cell_type": "code",
   "execution_count": 1,
   "id": "ea6050d4-07b4-4f5f-bc42-7a965108c8cd",
   "metadata": {},
   "outputs": [],
   "source": [
    "import numpy as np\n",
    "import matplotlib.pyplot as plt\n",
    "from scipy import linalg as la\n",
    "import scipy.integrate as integrate\n",
    "from scipy.linalg import ishermitian"
   ]
  },
  {
   "cell_type": "code",
   "execution_count": null,
   "id": "0662b756-3cc8-4af8-b799-3f81a144f369",
   "metadata": {},
   "outputs": [],
   "source": [
    "m1 = Hf1(3, w1, 0, w2, 0 , mass, w)"
   ]
  },
  {
   "cell_type": "code",
   "execution_count": null,
   "id": "ad594782-28f5-4ddb-888b-f86eb9fb728d",
   "metadata": {},
   "outputs": [],
   "source": [
    "ishermitian(m1)"
   ]
  },
  {
   "cell_type": "code",
   "execution_count": null,
   "id": "b1581b7e-004e-42e3-bef7-b7f85d195751",
   "metadata": {},
   "outputs": [],
   "source": [
    "w2 = 0.1\n",
    "p = 8\n",
    "q = 5\n",
    "w1 = (p/q)*w2\n",
    "w = w2/q\n",
    "latsize = 3\n",
    "# t2 = 2*np.pi/w2\n",
    "# t1 = 2*np.pi/w1\n",
    "# t = 2*np.pi/w\n",
    "\n",
    "def hamBHZpqnm(n, m, w1, phi1, w2, phi2, mass, w):\n",
    "    hnm = np.zeros((2,2), dtype=complex)\n",
    "    t = 2*np.pi/w\n",
    "    hnm[0,0] = (1/t)*(integrate.quad(lambda t: np.real(( (mass - np.cos(w1*t + phi1) - np.cos(w2*t + phi2)) )*np.exp(1j*(m-n)*w*t)), 0, 2*np.pi/w)[0] + 1j*integrate.quad(lambda t: np.imag(( (mass - np.cos(w1*t + phi1) - np.cos(w2*t + phi2)) )*np.exp(1j*(m-n)*w*t)), 0, 2*np.pi/w)[0])\n",
    "    hnm[1,1] = -hnm[0,0]#(1/t)*(integrate.quad(lambda t: np.real(( -(mass - np.cos(w1*t + phi1) - np.cos(w2*t + phi2)) )*np.exp(1j*(m-n)*w*t)), 0, 2*np.pi/w)[0] + 1j*integrate.quad(lambda t: np.imag(( -(mass - np.cos(w1*t + phi1) - np.cos(w2*t + phi2)) )*np.exp(1j*(m-n)*w*t)), 0, 2*np.pi/w)[0])\n",
    "    \n",
    "    hnm[0,1] = (1/t)*(integrate.quad(lambda t: np.real(( np.sin(w1*t + phi1) - 1j*np.sin(w2*t + phi2) )*np.exp(1j*(m-n)*w*t)), 0, 2*np.pi/w)[0] + 1j*integrate.quad(lambda t: np.imag(( np.sin(w1*t + phi1) - 1j*np.sin(w2*t + phi2) )*np.exp(1j*(m-n)*w*t)), 0, 2*np.pi/w)[0])\n",
    "    hnm[1,0] = (1/t)*(integrate.quad(lambda t: np.real(( np.sin(w1*t + phi1) + 1j*np.sin(w2*t + phi2) )*np.exp(1j*(m-n)*w*t)), 0, 2*np.pi/w)[0] + 1j*integrate.quad(lambda t: np.imag(( np.sin(w1*t + phi1) + 1j*np.sin(w2*t + phi2) )*np.exp(1j*(m-n)*w*t)), 0, 2*np.pi/w)[0])\n",
    "    \n",
    "    return hnm\n",
    "\n",
    "def Hf1(lat, w1, phi1, w2, phi2, mass, w):\n",
    "    blocks = []\n",
    "    for i in range(1, lat+1):\n",
    "        row = []\n",
    "        for j in range(1, lat+1):\n",
    "            matij = hamBHZpqnm(i, j, w1, phi1, w2, phi2, mass, w)\n",
    "            if (i==j):\n",
    "                matij = matij - i*w*np.eye(2,dtype=complex)\n",
    "            row.append(matij)\n",
    "        blocks.append(row)\n",
    "    m = np.block(blocks)\n",
    "    # for i in range(m.shape[0]):\n",
    "    #     m[i,i] = m[i,i] - i*W\n",
    "    return m"
   ]
  },
  {
   "cell_type": "markdown",
   "id": "0ce363d9-5f61-491d-9a9a-8b439a60c064",
   "metadata": {},
   "source": [
    "<h3>Temporal Half BHZ model (2 frequencies)</h3>\n",
    "Although it is still unclear how to handle integrations with infinite limits. "
   ]
  },
  {
   "cell_type": "code",
   "execution_count": 2,
   "id": "adeff42d-930b-4714-8181-ac4c7e0b3901",
   "metadata": {},
   "outputs": [],
   "source": [
    "def nfib(n):\n",
    "    def fib(k):\n",
    "        if k == 0:\n",
    "            return (0, 1)\n",
    "        else:\n",
    "            a, b = fib(k >> 1)\n",
    "            c = a * ((b << 1) - a)\n",
    "            d = a * a + b * b\n",
    "            if k & 1:\n",
    "                return (d, c + d)\n",
    "            else:\n",
    "                return (c, d)\n",
    "    return fib(n)[0]"
   ]
  },
  {
   "cell_type": "code",
   "execution_count": 3,
   "id": "c31922b4-8865-431b-b279-af6417a2d819",
   "metadata": {},
   "outputs": [],
   "source": [
    "# w2 = 0.1\n",
    "# w1 = np.sqrt(2)*w2\n",
    "\n",
    "def hamBHZ2nm(n, m, w1, phi1, w2, phi2, mass, w):\n",
    "    hnm = np.zeros((2,2), dtype=complex)\n",
    "    # t = 2*np.pi/w\n",
    "    l = 2*np.pi/w\n",
    "    wvec = np.array([w1, w2])\n",
    "    aa = lambda t: (mass - np.cos(w1*t + phi1) - np.cos(w2*t + phi2))*np.exp(1j*t*np.dot(m-n, wvec))\n",
    "    ab = lambda t: (np.sin(w1*t + phi1) - 1j*np.sin(w2*t + phi2) )*np.exp(1j*t*np.dot(m-n, wvec))\n",
    "    ba = lambda t: (np.sin(w1*t + phi1) + 1j*np.sin(w2*t + phi2) )*np.exp(1j*t*np.dot(m-n, wvec))\n",
    "    dt = 0.1\n",
    "    tvals = np.arange(0, l+0.1, 0.1)\n",
    "    aa_list = np.array([aa(i) for i in tvals])\n",
    "    # bb_list = -1*aa_liste\n",
    "    ab_list = np.array([ab(i) for i in tvals])\n",
    "    ba_list = np.array([ba(i) for i in tvals])\n",
    "    \n",
    "    hnm[0,0] =  integrate.simpson(aa_list, tvals)  #(0.5/l)*(integrate.quad(lambda t: np.real( (mass - np.cos(w1*t + phi1) - np.cos(w2*t + phi2))*np.exp(1j*t*np.dot(m-n, wvec))), 0, l)[0] + 1j*integrate.quad(lambda t: np.imag((mass - np.cos(w1*t + phi1) - np.cos(w2*t + phi2))*np.exp(1j*t*np.dot(m-n, wvec))), 0, l)[0])\n",
    "    hnm[1,1] = -hnm[0,0]  #-hnm[0,0]#(1/t)*(integrate.quad(lambda t: np.real( -(mass - np.cos(w1*t + phi1) - np.cos(w2*t + phi2))*np.exp(1j*t*np.dot(m-n, wvec))), 0, 2*np.pi/w)[0] + 1j*integrate.quad(lambda t: np.imag(-(mass - np.cos(w1*t + phi1) - np.cos(w2*t + phi2))*np.exp(1j*t*np.dot(m-n, wvec))), 0, 2*np.pi/w)[0])\n",
    "    hnm[0,1] = integrate.simpson(ab_list, tvals)   #(0.5/l)*(integrate.quad(lambda t: np.real(( np.sin(w1*t + phi1) - 1j*np.sin(w2*t + phi2) )*np.exp(1j*t*np.dot(m-n, wvec))), 0, l)[0] + 1j*integrate.quad(lambda t: np.imag(( np.sin(w1*t + phi1) - 1j*np.sin(w2*t + phi2) )*np.exp(1j*t*np.dot(m-n, wvec))), 0, l)[0])\n",
    "    hnm[1,0] = integrate.simpson(ba_list, tvals)   #(0.5/l)*(integrate.quad(lambda t: np.real(( np.sin(w1*t + phi1) + 1j*np.sin(w2*t + phi2) )*np.exp(1j*t*np.dot(m-n, wvec))), 0, l)[0] + 1j*integrate.quad(lambda t: np.imag(( np.sin(w1*t + phi1) + 1j*np.sin(w2*t + phi2) )*np.exp(1j*t*np.dot(m-n, wvec))), 0, l)[0])\n",
    "    \n",
    "    return hnm\n",
    "\n",
    "def Hf2(lat, w1, phi1, w2, phi2, mass, w):\n",
    "    latpose = [np.array([i,j]) for i in range(lat) for j in range(lat)]\n",
    "    wvec = np.matrix(np.array([w1, w2]))\n",
    "    blocks = []\n",
    "    for i in latpose:\n",
    "        row = []\n",
    "        for j in latpose:\n",
    "            if(i[0] == j[0] & i[1] == j[1]):\n",
    "                row.append( hamBHZ2nm(i, j, w1, phi1, w2, phi2, mass, w) )# - np.dot(i, np.array([w1, w2]))*np.identity(2, dtype=complex) )\n",
    "            else:\n",
    "                row.append( hamBHZ2nm(i, j, w1, phi1, w2, phi2, mass, w) )\n",
    "        blocks.append(row)\n",
    "    nw = [np.dot(wvec, i) for i in latpose]\n",
    "    ef = np.diagonal(nw)#, dtype=complex)\n",
    "    hf = np.block(blocks) - ef\n",
    "    return hf"
   ]
  },
  {
   "cell_type": "code",
   "execution_count": 10,
   "id": "783ae214-5823-4e61-b7cc-0ed0dea12b86",
   "metadata": {},
   "outputs": [],
   "source": [
    "w2 = 0.1\n",
    "fib = 5\n",
    "p = nfib(fib)\n",
    "q = nfib(fib-1)\n",
    "w1 = (p/q)*w2\n",
    "w = w2/q\n",
    "latsize = 7\n",
    "phi1 = 0\n",
    "phi2 = 0\n",
    "mass = 1\n",
    "\n",
    "# w2 = 0.1\n",
    "# p = 8\n",
    "# q = 5\n",
    "# w1 = (p/q)*w2\n",
    "# w = w2/q\n",
    "# latsize = 3\n",
    "\n",
    "# ham = Hf2(latsize, w1, phi1, w2, phi2, mass, w)"
   ]
  },
  {
   "cell_type": "code",
   "execution_count": null,
   "id": "cfb4cc65-d7d0-41f7-bf18-bb2322cbbb6c",
   "metadata": {},
   "outputs": [],
   "source": [
    "ishermitian(ham)"
   ]
  },
  {
   "cell_type": "code",
   "execution_count": 5,
   "id": "d1a4c4d9-c1fc-4417-a389-4692869ac64d",
   "metadata": {},
   "outputs": [],
   "source": [
    "def calculate_bott(H, Lx, Ly, ndof=2):\n",
    "    L = Lx * Ly\n",
    "    dim = ndof * L\n",
    "\n",
    "    # --- Site coordinates (1D arrays) ---\n",
    "    cell_x = np.zeros(dim, dtype=int)\n",
    "    cell_y = np.zeros(dim, dtype=int)\n",
    "\n",
    "    for x in range(Lx):\n",
    "        for y in range(Ly):\n",
    "            i = x * Ly + y\n",
    "            for sub in range(ndof):\n",
    "                idx = ndof * i + sub\n",
    "                cell_x[idx] = x\n",
    "                cell_y[idx] = y\n",
    "\n",
    "    # --- Diagonalize Hamiltonian ---\n",
    "    evals, evecs = la.eigh(H)\n",
    "\n",
    "    # --- Projector onto occupied states ---\n",
    "    occupied = evals < 0\n",
    "    P = evecs[:, occupied] @ evecs[:, occupied].conj().T\n",
    "\n",
    "    # --- Unitary position operators ---\n",
    "    theta = (2.0 * np.pi / Lx) * cell_x\n",
    "    phi_b = (2.0 * np.pi / Ly) * cell_y\n",
    "    Ux = np.diag(np.exp(1j * theta))\n",
    "    Uy = np.diag(np.exp(1j * phi_b))\n",
    "\n",
    "    # --- Projected unitaries ---\n",
    "    U = P @ Ux @ P\n",
    "    V = P @ Uy @ P\n",
    "\n",
    "    # --- Bott Operator ---\n",
    "    W = V @ U @ V.conj().T @ U.conj().T\n",
    "\n",
    "    # --- Bott index ---\n",
    "    eigvals_W = la.eigvals(W)\n",
    "    trace_log = np.sum(np.log(eigvals_W[np.abs(eigvals_W) > 1e-12]))\n",
    "    bott_index = np.imag(trace_log) / (2 * np.pi)\n",
    "\n",
    "    return bott_index"
   ]
  },
  {
   "cell_type": "code",
   "execution_count": 14,
   "id": "5a2598c6-4244-405e-ad3e-e135325ddb85",
   "metadata": {},
   "outputs": [
    {
     "data": {
      "text/plain": [
       "array([0.1, 0.6, 1.1, 1.6, 2.1, 2.6, 3.1, 3.6])"
      ]
     },
     "execution_count": 14,
     "metadata": {},
     "output_type": "execute_result"
    }
   ],
   "source": [
    "mass_vals = np.arange(0.1, 4, 0.5)\n",
    "mass_vals\n"
   ]
  },
  {
   "cell_type": "code",
   "execution_count": 11,
   "id": "ed4e8352-475b-4019-a8db-27c00c2dcde6",
   "metadata": {},
   "outputs": [
    {
     "data": {
      "image/png": "[encoded data removed]",
      "text/plain": [
       "<Figure size 640x480 with 1 Axes>"
      ]
     },
     "metadata": {},
     "output_type": "display_data"
    }
   ],
   "source": [
    "bott_vals = []\n",
    "mass_vals = np.arange(0.1, 4, 0.5)\n",
    "for i in mass_vals:\n",
    "    ham = Hf2(latsize, w1, phi1, w2, phi2, i, w)\n",
    "    bott_vals.append(calculate_bott(ham, latsize, latsize))\n",
    "\n",
    "plt.plot(mass_vals, bott_vals)\n",
    "plt.plot(mass_vals, bott_vals, 'ro')\n",
    "plt.title(\"number of replicas: \" + str(latsize))\n",
    "plt.show()"
   ]
  },
  {
   "cell_type": "code",
   "execution_count": 16,
   "id": "85a5d27e-5917-44cd-9d4e-b7a90fbdc6de",
   "metadata": {},
   "outputs": [
    {
     "data": {
      "image/png": "[encoded data removed]",
      "text/plain": [
       "<Figure size 640x480 with 1 Axes>"
      ]
     },
     "metadata": {},
     "output_type": "display_data"
    }
   ],
   "source": [
    "plt.plot(mass_vals, bott_vals)\n",
    "plt.plot(mass_vals, bott_vals, 'ro')\n",
    "plt.title(\"number of replicas: \" + str(latsize))\n",
    "plt.xlabel(\"Mass\")\n",
    "plt.ylabel(\"Local Chern Marker\")\n",
    "plt.grid(alpha=0.5)\n",
    "plt.savefig(\"floqBHZ_chernVSmass.png\")"
   ]
  },
  {
   "cell_type": "code",
   "execution_count": null,
   "id": "d25df407-745f-444f-b8ff-128210066c77",
   "metadata": {},
   "outputs": [],
   "source": [
    "print(len(np.arange(0.1,3.5,0.5)))"
   ]
  },
  {
   "cell_type": "markdown",
   "id": "ff886f8e-cee9-479f-9c4c-dd49cfee2e1e",
   "metadata": {},
   "source": [
    "<h2>Evolution of a an initial state due to $H_f$</h2>"
   ]
  },
  {
   "cell_type": "code",
   "execution_count": null,
   "id": "da585f08-8dc0-450c-b997-8e440843995c",
   "metadata": {},
   "outputs": [],
   "source": [
    "vec = np.zeros((2*latsize*latsize))\n",
    "vec[0] = 1\n",
    "\n",
    "t = 0\n",
    "dt = 0.1\n",
    "count = 1\n",
    "while(t<5):\n",
    "    vec = vec + dt*np.dot(m2, vec)\n",
    "    vec = vec/la.norm(vec)\n",
    "    # den = np.dot(np.conjugate(vec), vec)\n",
    "    den = [np.conjugate(vec[2*i])*vec[2*i] + np.conjugate(vec[2*i + 1])*vec[2*i + 1] for i in range(latsize*latsize)]\n",
    "    den = np.array(den).reshape((latsize, latsize))\n",
    "    plt.imshow(np.real(den))\n",
    "    plt.savefig('halfBHZfloq/evol/'+str(count)+'.png')\n",
    "    t = t + dt\n",
    "    count = count + 1"
   ]
  },
  {
   "cell_type": "code",
   "execution_count": null,
   "id": "2cd8cac4-10eb-4b97-a248-742fa06cabfc",
   "metadata": {},
   "outputs": [],
   "source": [
    "w2 = 0.1\n",
    "p = 8\n",
    "q = 5\n",
    "w1 = (p/q)*w2\n",
    "w = w2/q\n",
    "latsize = 3\n",
    "phi1 = 0\n",
    "phi2 = 0\n",
    "mass = 1\n",
    "m = np.array([1,1])\n",
    "n = np.array([1,0])\n",
    "wvec = np.array([w1, w2])\n",
    "\n",
    "li = [i for i in range(1,100)]\n",
    "val = []\n",
    "for l in li:\n",
    "    d = (0.5/l)*(integrate.quad(lambda t: np.real( (mass - np.cos(w1*t + phi1) - np.cos(w2*t + phi2))*np.exp(1j*t*np.dot(m-n, wvec))), 0, l)[0] + 1j*integrate.quad(lambda t: np.imag((mass - np.cos(w1*t + phi1) - np.cos(w2*t + phi2))*np.exp(1j*t*np.dot(m-n, wvec))), 0, l)[0])\n",
    "    val.append(d)\n",
    "plt.plot(li, val)"
   ]
  },
  {
   "cell_type": "markdown",
   "id": "ee93c4f3-4f34-4e06-b2d7-ff427cac58d0",
   "metadata": {},
   "source": [
    "Ignore the block above this for now, and continue with rational limit."
   ]
  },
  {
   "cell_type": "code",
   "execution_count": null,
   "id": "3d67d245-1a43-4c31-b587-fa9a2d87c520",
   "metadata": {},
   "outputs": [],
   "source": [
    "w2 = 0.1\n",
    "p = 8\n",
    "q = 5\n",
    "w1 = (p/q)*w2\n",
    "w = w2/q\n",
    "latsize = 3\n",
    "# phi1 = 0\n",
    "# phi2 = 0\n",
    "mass = 2\n",
    "dk = 0.1\n",
    "\n",
    "Phi1 = np.arange(-np.pi, np.pi+dk , dk)\n",
    "Phi2 = np.arange(-np.pi, np.pi+dk , dk)\n",
    "bands = [ np.zeros((len(Phi1), len(Phi2)), dtype=complex) for i in range(2*latsize) ]\n",
    "# bands = []\n",
    "\n",
    "for i in range(len(Phi1)):\n",
    "    for j in range(len(Phi2)):\n",
    "        eigs = np.sort( la.eigvals( Hf(latsize, w1, Phi1[i], w2, Phi2[j], mass, w) ) )\n",
    "        for ind in range(2*latsize):\n",
    "            # band = np.zeros((len(Phi1), len(Phi2)), dtype=complex)\n",
    "            # bands[ind, i,j] = eigs[ind]\n",
    "            # print(ind, i, j)\n",
    "            bands[ind][i,j] = eigs[ind]\n",
    "            "
   ]
  },
  {
   "cell_type": "code",
   "execution_count": null,
   "id": "93915a4c-185d-4504-8ab7-07821fb818d1",
   "metadata": {},
   "outputs": [],
   "source": [
    "vec = np.matrix(np.zeros(2*latsize**2)).T\n",
    "vec[0] = 1\n",
    "w2 = 0.1\n",
    "p = 8\n",
    "q = 5\n",
    "w1 = (p/q)*w2\n",
    "w = w2/q\n",
    "latsize = 3\n",
    "# phi1 = 0\n",
    "# phi2 = 0\n",
    "mass = 2\n",
    "ham = np.matrix(Hf(latsize, w1, 0, w2, 0, mass, w))\n",
    "dt = 0.1\n",
    "t = 0\n",
    "while(t<5):\n",
    "    vec = vec + dt*(ham@vec)\n",
    "    t = t + dt\n",
    "\n"
   ]
  },
  {
   "cell_type": "code",
   "execution_count": null,
   "id": "3f0ebe7a-3b7b-4920-b14a-a8fa6441d492",
   "metadata": {},
   "outputs": [],
   "source": [
    "Hf(latsize, w1, 0, w2, 0, mass, w).shape"
   ]
  },
  {
   "cell_type": "code",
   "execution_count": null,
   "id": "690136e4-c2dd-4e76-a46b-59f846b79bbb",
   "metadata": {},
   "outputs": [],
   "source": [
    "eigs"
   ]
  },
  {
   "cell_type": "code",
   "execution_count": null,
   "id": "ed22c96c-a554-43ff-873c-06a65f699604",
   "metadata": {},
   "outputs": [],
   "source": [
    "fig, ax = plt.subplots(subplot_kw={\"projection\": \"3d\"})\n",
    "\n",
    "X, Y = np.meshgrid(Phi1, Phi2)\n",
    "\n",
    "for i in bands:\n",
    "        ax.plot_surface(X, Y,  np.real(i))\n",
    "# ax.plot_surface(X, Y, z1)\n",
    "# ax.plot_surface(X, Y, z2)\n",
    "plt.show()\n",
    "\n"
   ]
  },
  {
   "cell_type": "code",
   "execution_count": null,
   "id": "33f2f276-6b63-4919-ae2d-37d59e27ac96",
   "metadata": {},
   "outputs": [],
   "source": []
  }
 ],
 "metadata": {
  "kernelspec": {
   "display_name": "Python 3 (ipykernel)",
   "language": "python",
   "name": "python3"
  },
  "language_info": {
   "codemirror_mode": {
    "name": "ipython",
    "version": 3
   },
   "file_extension": ".py",
   "mimetype": "text/x-python",
   "name": "python",
   "nbconvert_exporter": "python",
   "pygments_lexer": "ipython3",
   "version": "3.10.9"
  }
 },
 "nbformat": 4,
 "nbformat_minor": 5
}
