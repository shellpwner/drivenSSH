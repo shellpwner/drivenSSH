{
 "cells": [
  {
   "cell_type": "code",
   "execution_count": 22,
   "id": "93d42704-d384-4a1b-a702-fe534e458d7b",
   "metadata": {},
   "outputs": [],
   "source": [
    "def nfib(n):\n",
    "    def fib(k):\n",
    "        if k == 0:\n",
    "            return (0, 1)\n",
    "        else:\n",
    "            a, b = fib(k >> 1)\n",
    "            c = a * ((b << 1) - a)\n",
    "            d = a * a + b * b\n",
    "            if k & 1:\n",
    "                return (d, c + d)\n",
    "            else:\n",
    "                return (c, d)\n",
    "    return fib(n)[0]"
   ]
  },
  {
   "cell_type": "code",
   "execution_count": 23,
   "id": "7bffc49c-c50d-4278-baf5-5e7d776e10e9",
   "metadata": {},
   "outputs": [],
   "source": [
    "import numpy as np\n",
    "import matplotlib.pyplot as plt\n",
    "import scipy.integrate as integrate\n",
    "import scipy.linalg as la"
   ]
  },
  {
   "cell_type": "code",
   "execution_count": 6,
   "id": "cf064d4c-5884-403e-80bd-311ef770018f",
   "metadata": {},
   "outputs": [],
   "source": [
    "def hamSSH2_nm(N, n, m, w1, w2, u, v, a1, a2, phi, w):\n",
    "    l = 2*np.pi/w\n",
    "    wvec = np.array([w1, w2])\n",
    "    U1 = lambda t: u*(1 + 2*np.cos(w1*t) + a1*np.cos(w2*t))*np.exp(1j*t*np.dot(m-n, wvec))\n",
    "    U2 = lambda t: u*(1 - 2*np.cos(w1*t) + a1*np.cos(w2*t))*np.exp(1j*t*np.dot(m-n, wvec))\n",
    "    Va = lambda t: a2*(np.cos(w1*t + phi) + a1*np.cos(w2*t + phi))*np.exp(1j*t*np.dot(m-n, wvec))\n",
    "    Vb = lambda t: a2*(np.cos(w1*t + phi) - a1*np.cos(w2*t + phi))*np.exp(1j*t*np.dot(m-n, wvec))\n",
    "    tvals = np.arange(0, l+0.1, 0.1)\n",
    "    U1t = integrate.simpson([U1(i) for i in tvals], tvals)\n",
    "    U2t = integrate.simpson([U2(i) for i in tvals], tvals)\n",
    "    Vat = integrate.simpson([Va(i) for i in tvals], tvals)\n",
    "    Vbt = integrate.simpson([Vb(i) for i in tvals], tvals)\n",
    "                                                                          \n",
    "    ham = []\n",
    "    for i in range(N):\n",
    "        row = []\n",
    "        for j in range(N):\n",
    "            if(i==j):\n",
    "                m = np.array([[0, U1t],[U1t, 0]])\n",
    "                row.append(m)\n",
    "            elif (np.abs(i-j) == 1):\n",
    "                m = np.array([[Vat, U2t],[U2t, Vbt]])\n",
    "                row.append(m)\n",
    "            else:\n",
    "                m = np.array([[0,0],[0,0]])\n",
    "                row.append(m)\n",
    "        ham.append(row)\n",
    "    return np.block(ham)\n",
    "                                                                          \n",
    "def Hf(lat, N, w1, w2, u, v, a1, a2, phi, w):\n",
    "    latpose = [np.array([i,j]) for i in range(lat) for j in range(lat)]\n",
    "    wvec = np.matrix(np.array([w1, w2]))\n",
    "    blocks = []\n",
    "    for i in latpose:\n",
    "        row = []\n",
    "        for j in latpose:\n",
    "            if(i[0] == j[0] & i[1] == j[1]):\n",
    "                row.append( hamSSH2_nm(N, i, j, w1, w2, u, v, a1, a2, phi, w) )# - np.dot(i, np.array([w1, w2]))*np.identity(2, dtype=complex) )\n",
    "            else:\n",
    "                row.append( hamSSH2_nm(N, i, j, w1, w2, u, v, a1, a2, phi, w) )\n",
    "        blocks.append(row)\n",
    "    nw = [np.dot(wvec, i) for i in latpose]\n",
    "    ef = np.diagonal(nw)#, dtype=complex)\n",
    "    hf = np.block(blocks) - ef\n",
    "    return hf"
   ]
  },
  {
   "cell_type": "code",
   "execution_count": 56,
   "id": "21bb9e30-2a73-4993-943f-b685e45eba02",
   "metadata": {},
   "outputs": [],
   "source": [
    "lat = 1\n",
    "N = 10\n",
    "w2 = 0.1\n",
    "fib = 5\n",
    "p = nfib(fib)\n",
    "q = nfib(fib-1)\n",
    "w1 = (p/q)*w2\n",
    "w = w2/q\n",
    "u = 0.5\n",
    "v = 1\n",
    "a1 =1\n",
    "a2 = v\n",
    "phi = 10\n",
    "\n",
    "ham = Hf(lat, N, w1, w2, u, v, a1, a2, phi, w)"
   ]
  },
  {
   "cell_type": "code",
   "execution_count": 13,
   "id": "0aa188a7-2c2b-4d42-ab1d-2f6743d8e739",
   "metadata": {},
   "outputs": [],
   "source": [
    "def calculate_bott(H, Lx, Ly, ndof=2):\n",
    "    L = Lx * Ly\n",
    "    dim = ndof * L\n",
    "\n",
    "    # --- Site coordinates (1D arrays) ---\n",
    "    cell_x = np.zeros(dim, dtype=int)\n",
    "    cell_y = np.zeros(dim, dtype=int)\n",
    "\n",
    "    for x in range(Lx):\n",
    "        for y in range(Ly):\n",
    "            i = x * Ly + y\n",
    "            for sub in range(ndof):\n",
    "                idx = ndof * i + sub\n",
    "                cell_x[idx] = x\n",
    "                cell_y[idx] = y\n",
    "\n",
    "    # --- Diagonalize Hamiltonian ---\n",
    "    evals, evecs = la.eigh(H)\n",
    "\n",
    "    # --- Projector onto occupied states ---\n",
    "    occupied = evals < 0\n",
    "    P = evecs[:, occupied] @ evecs[:, occupied].conj().T\n",
    "\n",
    "    # --- Unitary position operators ---\n",
    "    theta = (2.0 * np.pi / Lx) * cell_x\n",
    "    phi_b = (2.0 * np.pi / Ly) * cell_y\n",
    "    Ux = np.diag(np.exp(1j * theta))\n",
    "    Uy = np.diag(np.exp(1j * phi_b))\n",
    "\n",
    "    # --- Projected unitaries ---\n",
    "    U = P @ Ux @ P\n",
    "    V = P @ Uy @ P\n",
    "\n",
    "    # --- Bott Operator ---\n",
    "    W = V @ U @ V.conj().T @ U.conj().T\n",
    "\n",
    "    # --- Bott index ---\n",
    "    eigvals_W = la.eigvals(W)\n",
    "    trace_log = np.sum(np.log(eigvals_W[np.abs(eigvals_W) > 1e-12]))\n",
    "    bott_index = np.imag(trace_log) / (2 * np.pi)\n",
    "\n",
    "    return bott_index"
   ]
  },
  {
   "cell_type": "code",
   "execution_count": 37,
   "id": "3e718b77-2332-4020-bd19-9d5d7230dddc",
   "metadata": {},
   "outputs": [
    {
     "data": {
      "text/plain": [
       "(20, 20)"
      ]
     },
     "execution_count": 37,
     "metadata": {},
     "output_type": "execute_result"
    }
   ],
   "source": [
    "ham.shape"
   ]
  },
  {
   "cell_type": "code",
   "execution_count": 57,
   "id": "feeaa716-2145-4a08-bf19-6e25c123a1ce",
   "metadata": {},
   "outputs": [
    {
     "data": {
      "text/plain": [
       "-9.459856643523898e-18"
      ]
     },
     "execution_count": 57,
     "metadata": {},
     "output_type": "execute_result"
    }
   ],
   "source": [
    "calculate_bott(ham, lat, N)"
   ]
  },
  {
   "cell_type": "code",
   "execution_count": null,
   "id": "f7b7c818-b26a-46b9-b03f-efb4669a46d6",
   "metadata": {},
   "outputs": [],
   "source": []
  }
 ],
 "metadata": {
  "kernelspec": {
   "display_name": "Python 3 (ipykernel)",
   "language": "python",
   "name": "python3"
  },
  "language_info": {
   "codemirror_mode": {
    "name": "ipython",
    "version": 3
   },
   "file_extension": ".py",
   "mimetype": "text/x-python",
   "name": "python",
   "nbconvert_exporter": "python",
   "pygments_lexer": "ipython3",
   "version": "3.10.9"
  }
 },
 "nbformat": 4,
 "nbformat_minor": 5
}
