{
 "cells": [
  {
   "cell_type": "code",
   "execution_count": 168,
   "id": "226da647-6316-4987-b6af-5d947198ee73",
   "metadata": {},
   "outputs": [
    {
     "name": "stdin",
     "output_type": "stream",
     "text": [
      "Once deleted, variables cannot be recovered. Proceed (y/[n])?  y\n"
     ]
    }
   ],
   "source": [
    "%reset"
   ]
  },
  {
   "cell_type": "code",
   "execution_count": 13,
   "id": "2943ae25-5c9b-4f1a-b22c-a82bfe783adc",
   "metadata": {},
   "outputs": [],
   "source": [
    "import numpy as np\n",
    "import matplotlib.pyplot as plt\n",
    "import matplotlib as mpl\n",
    "import scipy.linalg as la\n",
    "import scipy.integrate as integrate\n",
    "import kwant\n",
    "from scipy.linalg import ishermitian"
   ]
  },
  {
   "cell_type": "markdown",
   "id": "b99514ab-173f-4078-a53e-8021c6893ff2",
   "metadata": {},
   "source": [
    "This code attempts to replicate the results of PhysRevB.107.094310 (Olin and Lee), and then extend on their idea by applying the incommensurate limit.\n"
   ]
  },
  {
   "cell_type": "markdown",
   "id": "1359e8b7-90de-4665-93d7-3e80a5a660a8",
   "metadata": {},
   "source": [
    "This block sets up the initial hamiltonian for a finite chain. "
   ]
  },
  {
   "cell_type": "code",
   "execution_count": 15,
   "id": "354783b9-bee8-43c4-8652-d2befba7f73e",
   "metadata": {},
   "outputs": [],
   "source": [
    "sigmax = np.matrix([[0., 1.],[1., 0.]])\n",
    "sigmay = np.matrix([[0., -1j*1.],[1j*1., 0.]])\n",
    "sigmaz = np.matrix([[1., 0.],[0., -1.]])\n",
    "\n",
    "U1 = lambda u, w1, w2, a, t: u*(1 + 2*np.cos(w1*t) + 2*a*np.cos(w2*t))\n",
    "U2 = lambda u, w1, w2, a, t: u*(1 - 2*np.cos(w1*t) - 2*a*np.cos(w2*t))\n",
    "Va = lambda v, w1, w2, a, theta, t: v*(np.cos(w1*t + theta) + a*np.cos(w2*t + theta))\n",
    "Vb = lambda v, w1, w2, a, theta, t: v*(np.cos(w1*t - theta) + a*np.cos(w2*t - theta))\n",
    "\n",
    "def twodriveSSH_ham(u, v, w1, w2, theta, alpha, t, L):\n",
    "    u1 = U1(u, w1, w2, alpha, t)\n",
    "    u2 = U2(u, w1, w2, alpha, t)\n",
    "    va = Va(v, w1, w2, alpha, theta, t)\n",
    "    vb = Vb(v, w1, w2, alpha, theta, t)\n",
    "    \n",
    "    lat = kwant.lattice.chain()\n",
    "    sys = kwant.Builder()\n",
    "    A = lambda i: lat(2 * i)\n",
    "    B = lambda i: lat(2 * i + 1)\n",
    "    \n",
    "    for i in range(L):  #onsite\n",
    "        sys[A(i)] = 0.0\n",
    "        sys[B(i)] = 0.0\n",
    "    \n",
    "    for i in range(L):  # Intracell A to B\n",
    "        sys[A(i), B(i)] = u1 \n",
    "    \n",
    "    for i in range(L - 1):  \n",
    "        sys[A(i), B(i + 1)] = u2  # Intercell Ai to Bi\n",
    "        sys[A(i), A(i + 1)] = va  # Intercell Ai to Ai+1 \n",
    "        sys[B(i), B(i + 1)] = vb  # Intercell Bi to Bi+1  \n",
    "    f_sys = sys.finalized()\n",
    "    ham = f_sys.hamiltonian_submatrix(sparse=False)\n",
    "    return ham"
   ]
  },
  {
   "cell_type": "markdown",
   "id": "893aaed8-ba3b-443d-9486-6c87215b54b0",
   "metadata": {},
   "source": [
    "We need to calculate the Flouqet hamiltonian for m floquet modes which will give us 2mn x 2mn Floquet hamiltonian for n unit cells. "
   ]
  },
  {
   "cell_type": "code",
   "execution_count": 16,
   "id": "24d69af7-8f8a-4e9d-a7c8-d936d1c15eef",
   "metadata": {},
   "outputs": [],
   "source": [
    "def twodriveSSH_nm_ham(n, m, u, v, w1, w2, w, theta, alpha, L):\n",
    "    t = 2*np.pi/w\n",
    "    lat = kwant.lattice.chain(norbs=1)\n",
    "    sys = kwant.Builder()\n",
    "    A = lambda i: lat(2 * i)\n",
    "    B = lambda i: lat(2 * i + 1)\n",
    "    \n",
    "    for i in range(L):  #onsite\n",
    "        sys[A(i)] = 0.0\n",
    "        sys[B(i)] = 0.0\n",
    "\n",
    "    u1 = (1/t)*(integrate.quad(lambda t: np.real(( U1(u, w1, w2, alpha, t) )*np.exp(1j*(m-n)*w*t)), 0, 2*np.pi/w)[0] + 1j*integrate.quad(lambda t: np.imag(( U1(u, w1, w2, alpha, t) )*np.exp(1j*(m-n)*w*t)), 0, 2*np.pi/w)[0])\n",
    "    for i in range(L):  # Intracell A to B\n",
    "        sys[A(i), B(i)] = u1\n",
    "\n",
    "    u2 = (1/t)*(integrate.quad(lambda t: np.real(( U2(u, w1, w2, alpha, t) )*np.exp(1j*(m-n)*w*t)), 0, 2*np.pi/w)[0] + 1j*integrate.quad(lambda t: np.imag(( U2(u, w1, w2, alpha, t) )*np.exp(1j*(m-n)*w*t)), 0, 2*np.pi/w)[0])\n",
    "    va = (1/t)*(integrate.quad(lambda t: np.real(( Va(v, w1, w2, alpha, theta, t) )*np.exp(1j*(m-n)*w*t)), 0, 2*np.pi/w)[0] + 1j*integrate.quad(lambda t: np.imag( Va(v, w1, w2, alpha, theta, t)*np.exp(1j*(m-n)*w*t)), 0, 2*np.pi/w)[0])\n",
    "    vb = (1/t)*(integrate.quad(lambda t: np.real(( Va(v, w1, w2, alpha, theta, t) )*np.exp(1j*(m-n)*w*t)), 0, 2*np.pi/w)[0] + 1j*integrate.quad(lambda t: np.imag( Va(v, w1, w2, alpha, theta, t)*np.exp(1j*(m-n)*w*t)), 0, 2*np.pi/w)[0])\n",
    "    for i in range(L - 1):  \n",
    "        sys[A(i), B(i + 1)] = u2  # Intercell Ai to Bi\n",
    "        sys[A(i), A(i + 1)] = va  # Intercell Ai to Ai+1 \n",
    "        sys[B(i), B(i + 1)] = vb  # Intercell Bi to Bi+1  \n",
    "    f_sys = sys.finalized()\n",
    "    ham = f_sys.hamiltonian_submatrix(sparse=False)\n",
    "    return ham\n",
    "    \n",
    "\n",
    "def Hf(lat, u, v, w1, w2, w, theta, alpha, L):\n",
    "    blocks = []\n",
    "    for i in range(1, lat+1):\n",
    "        row = []\n",
    "        for j in range(1, lat+1):\n",
    "            matij = twodriveSSH_nm_ham(i, j, u, v, w1, w2, w, theta, alpha, L)\n",
    "            if (i==j):\n",
    "                matij = matij - i*w*np.eye(2*L,dtype=complex)\n",
    "            row.append(matij)\n",
    "        blocks.append(row)\n",
    "    m = np.block(blocks)\n",
    "    # for i in range(m.shape[0]):\n",
    "    #     m[i,i] = m[i,i] - i*W\n",
    "    return m"
   ]
  },
  {
   "cell_type": "code",
   "execution_count": 179,
   "id": "84e4611c-0cb1-4ffc-b594-dbcee63f48c3",
   "metadata": {},
   "outputs": [],
   "source": [
    "p = 1\n",
    "q = 2\n",
    "w2 = 1\n",
    "w1 = (p/q)*w2\n",
    "w = w2/q\n",
    "alpha = 1\n",
    "u = 1.2\n",
    "v = 1\n",
    "theta = 1\n",
    "L = 20\n",
    "\n",
    "ham = Hf(3, u, v, w1, w2, w, theta, alpha, L)"
   ]
  },
  {
   "cell_type": "code",
   "execution_count": 167,
   "id": "79aa1641-4859-40af-b3e6-1a228c7ad2a6",
   "metadata": {},
   "outputs": [
    {
     "data": {
      "image/png": "[encoded data removed]",
      "text/plain": [
       "<Figure size 640x480 with 1 Axes>"
      ]
     },
     "metadata": {},
     "output_type": "display_data"
    }
   ],
   "source": [
    "eigs = np.sort(la.eigvals(ham))\n",
    "plt.plot(np.real(eigs), 'r-')\n",
    "plt.plot(np.real(eigs), 'bo')\n",
    "plt.show()"
   ]
  },
  {
   "cell_type": "code",
   "execution_count": 17,
   "id": "11362f97-8cf9-4bf5-a579-a51b1603a771",
   "metadata": {},
   "outputs": [],
   "source": [
    "def calculate_bott(H, Lx, Ly, ndof=2):\n",
    "    L = Lx * Ly\n",
    "    dim = ndof * L\n",
    "\n",
    "    # --- Site coordinates (1D arrays) ---\n",
    "    cell_x = np.zeros(dim, dtype=int)\n",
    "    cell_y = np.zeros(dim, dtype=int)\n",
    "\n",
    "    for x in range(Lx):\n",
    "        for y in range(Ly):\n",
    "            i = x * Ly + y\n",
    "            for sub in range(ndof):\n",
    "                idx = ndof * i + sub\n",
    "                cell_x[idx] = x\n",
    "                cell_y[idx] = y\n",
    "\n",
    "    # --- Diagonalize Hamiltonian ---\n",
    "    evals, evecs = la.eigh(H)\n",
    "\n",
    "    # --- Projector onto occupied states ---\n",
    "    occupied = evals < 0\n",
    "    P = evecs[:, occupied] @ evecs[:, occupied].conj().T\n",
    "\n",
    "    # --- Unitary position operators ---\n",
    "    theta = (2.0 * np.pi / Lx) * cell_x\n",
    "    phi_b = (2.0 * np.pi / Ly) * cell_y\n",
    "    Ux = np.diag(np.exp(1j * theta))\n",
    "    Uy = np.diag(np.exp(1j * phi_b))\n",
    "\n",
    "    # --- Projected unitaries ---\n",
    "    U = P @ Ux @ P\n",
    "    V = P @ Uy @ P\n",
    "\n",
    "    # --- Bott Operator ---\n",
    "    W = V @ U @ V.conj().T @ U.conj().T\n",
    "\n",
    "    # --- Bott index ---\n",
    "    eigvals_W = la.eigvals(W)\n",
    "    trace_log = np.sum(np.log(eigvals_W[np.abs(eigvals_W) > 1e-12]))\n",
    "    bott_index = np.imag(trace_log) / (2 * np.pi)\n",
    "\n",
    "    return bott_index"
   ]
  },
  {
   "cell_type": "code",
   "execution_count": 137,
   "id": "d30e0d55-e591-49c5-9291-1809951319cc",
   "metadata": {},
   "outputs": [
    {
     "data": {
      "text/plain": [
       "2.00000000027039"
      ]
     },
     "execution_count": 137,
     "metadata": {},
     "output_type": "execute_result"
    }
   ],
   "source": [
    "calculate_bott(ham, 20, 3)"
   ]
  },
  {
   "cell_type": "code",
   "execution_count": 50,
   "id": "e6aee0f1-e63e-4017-8193-9baf903f3265",
   "metadata": {},
   "outputs": [],
   "source": [
    "p = 1\n",
    "q = 2\n",
    "w2 = 0.1\n",
    "w1 = (p/q)*w2\n",
    "w = w2/q\n",
    "alpha = 0.5\n",
    "u = 1\n",
    "v = 1.5\n",
    "theta = 1\n",
    "L = 20\n",
    "modes = 3\n",
    "bi_a = [calculate_bott(Hf(modes, u, v, w1, w2, w, theta, i, L), L, modes) for i in np.arange(0,4,0.1)]\n",
    "# bi_th = [calculate_bott(Hf(modes, u, v, w1, w2, w, i, 1, L), L, modes) for i in np.arange(-1,1,0.1)]"
   ]
  },
  {
   "cell_type": "code",
   "execution_count": 51,
   "id": "5efc6c4d-a931-4b49-8390-5f57a0cde526",
   "metadata": {},
   "outputs": [
    {
     "data": {
      "image/png": "[encoded data removed]",
      "text/plain": [
       "<Figure size 640x480 with 1 Axes>"
      ]
     },
     "metadata": {},
     "output_type": "display_data"
    }
   ],
   "source": [
    "plt.plot(np.arange(0,4,0.1),bi_a, 'b-')\n",
    "plt.plot(np.arange(0,4,0.1),bi_a, 'ro')\n",
    "plt.grid()\n",
    "plt.xlabel('alpha')\n",
    "plt.ylabel('Bott Index / Chern number')\n",
    "plt.title('p='+str(p)+' q='+str(q)+' u='+str(u)+' v='+str(v)+' theta='+str(theta)+' modes='+str(modes))\n",
    "plt.show()"
   ]
  },
  {
   "cell_type": "code",
   "execution_count": null,
   "id": "51098d64-78f6-4bdb-9118-12e5be47747f",
   "metadata": {},
   "outputs": [],
   "source": []
  }
 ],
 "metadata": {
  "kernelspec": {
   "display_name": "Python 3 (ipykernel)",
   "language": "python",
   "name": "python3"
  },
  "language_info": {
   "codemirror_mode": {
    "name": "ipython",
    "version": 3
   },
   "file_extension": ".py",
   "mimetype": "text/x-python",
   "name": "python",
   "nbconvert_exporter": "python",
   "pygments_lexer": "ipython3",
   "version": "3.10.12"
  }
 },
 "nbformat": 4,
 "nbformat_minor": 5
}
